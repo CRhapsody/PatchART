{
 "cells": [
  {
   "cell_type": "code",
   "execution_count": 9,
   "metadata": {},
   "outputs": [
    {
     "name": "stdout",
     "output_type": "stream",
     "text": [
      "A: torch.Size([3, 4])\n",
      "tensor([[0., 0., 0., 0.],\n",
      "        [0., 0., 0., 0.],\n",
      "        [0., 0., 0., 0.]])\n",
      "B: torch.Size([3, 4])\n",
      "tensor([[1., 1., 1., 1.],\n",
      "        [1., 1., 1., 1.],\n",
      "        [1., 1., 1., 1.]])\n",
      "C: torch.Size([3, 8])\n",
      "tensor([[0., 1., 0., 1., 0., 1., 0., 1.],\n",
      "        [0., 1., 0., 1., 0., 1., 0., 1.],\n",
      "        [0., 1., 0., 1., 0., 1., 0., 1.]])\n"
     ]
    }
   ],
   "source": [
    "import torch\n",
    "\n",
    "def combine_tensors(A, B):\n",
    "    # 将A和B在最后一个维度上进行拼接\n",
    "    C = torch.cat((A, B), dim=-1)\n",
    "    C = torch.zeros_like(C)\n",
    "    for i in range(C.shape[1]):\n",
    "        if i % 2 == 0:\n",
    "            C[:, i] = A[:, i//2]\n",
    "        else:\n",
    "            C[:, i] = B[:, i//2]\n",
    "    return C\n",
    "\n",
    "# 示例数据\n",
    "batch_size = 3\n",
    "input_dim = 4\n",
    "\n",
    "# 创建示例张量A和B\n",
    "A = torch.zeros(batch_size, input_dim)\n",
    "B = torch.ones(batch_size, input_dim)\n",
    "\n",
    "# 组合A和B\n",
    "C = combine_tensors(A, B)\n",
    "\n",
    "# 打印结果\n",
    "print(\"A:\", A.shape)\n",
    "print(A)\n",
    "print(\"B:\", B.shape)\n",
    "print(B)\n",
    "print(\"C:\", C.shape)\n",
    "print(C)"
   ]
  },
  {
   "cell_type": "code",
   "execution_count": 4,
   "metadata": {},
   "outputs": [],
   "source": [
    "C = torch.cat((A, B), dim=-1)\n"
   ]
  },
  {
   "cell_type": "code",
   "execution_count": 5,
   "metadata": {},
   "outputs": [
    {
     "data": {
      "text/plain": [
       "tensor([[[0., 0.],\n",
       "         [0., 0.],\n",
       "         [1., 1.],\n",
       "         [1., 1.]],\n",
       "\n",
       "        [[0., 0.],\n",
       "         [0., 0.],\n",
       "         [1., 1.],\n",
       "         [1., 1.]],\n",
       "\n",
       "        [[0., 0.],\n",
       "         [0., 0.],\n",
       "         [1., 1.],\n",
       "         [1., 1.]]])"
      ]
     },
     "execution_count": 5,
     "metadata": {},
     "output_type": "execute_result"
    }
   ],
   "source": [
    "# 将C的最后一个维度进行重新排列\n",
    "C.reshape(*C.shape[:-1], -1, 2)"
   ]
  },
  {
   "cell_type": "code",
   "execution_count": 6,
   "metadata": {},
   "outputs": [],
   "source": [
    "C = torch.zeros_like(C)"
   ]
  },
  {
   "cell_type": "code",
   "execution_count": 7,
   "metadata": {},
   "outputs": [
    {
     "data": {
      "text/plain": [
       "tensor([[0., 0., 0., 0., 0., 0., 0., 0.],\n",
       "        [0., 0., 0., 0., 0., 0., 0., 0.],\n",
       "        [0., 0., 0., 0., 0., 0., 0., 0.]])"
      ]
     },
     "execution_count": 7,
     "metadata": {},
     "output_type": "execute_result"
    }
   ],
   "source": [
    "C"
   ]
  },
  {
   "cell_type": "code",
   "execution_count": null,
   "metadata": {},
   "outputs": [],
   "source": []
  },
  {
   "cell_type": "code",
   "execution_count": 10,
   "metadata": {},
   "outputs": [
    {
     "name": "stdout",
     "output_type": "stream",
     "text": [
      "原始张量:\n",
      "tensor([[1, 0]])\n",
      "扩展后的张量:\n",
      "tensor([[1, 0],\n",
      "        [1, 0],\n",
      "        [1, 0],\n",
      "        [1, 0],\n",
      "        [1, 0]])\n"
     ]
    }
   ],
   "source": [
    "import torch\n",
    "\n",
    "def expand_tensor(tensor, n):\n",
    "    expanded_tensor = tensor.repeat(n, 1)\n",
    "    return expanded_tensor\n",
    "\n",
    "# 示例数据\n",
    "tensor = torch.tensor([[1, 0]])  # 要扩展的张量\n",
    "n = 5  # 扩展的次数\n",
    "\n",
    "# 扩展张量\n",
    "expanded_tensor = expand_tensor(tensor, n)\n",
    "\n",
    "print(\"原始张量:\")\n",
    "print(tensor)\n",
    "print(\"扩展后的张量:\")\n",
    "print(expanded_tensor)"
   ]
  },
  {
   "cell_type": "code",
   "execution_count": 17,
   "metadata": {},
   "outputs": [],
   "source": [
    "import torch\n",
    "a = torch.tensor([[1, 1],[2, 0],[3, 0],[1, 0],[1, 0]],device='cuda')"
   ]
  },
  {
   "cell_type": "code",
   "execution_count": 25,
   "metadata": {},
   "outputs": [
    {
     "name": "stdout",
     "output_type": "stream",
     "text": [
      "[0, 1]\n",
      "[0]\n",
      "[0]\n",
      "[0]\n",
      "[0]\n"
     ]
    }
   ],
   "source": [
    "for i,ai in enumerate(a):\n",
    "    print(ai.nonzero(as_tuple=True)[0].tolist())"
   ]
  }
 ],
 "metadata": {
  "kernelspec": {
   "display_name": "ART",
   "language": "python",
   "name": "python3"
  },
  "language_info": {
   "codemirror_mode": {
    "name": "ipython",
    "version": 3
   },
   "file_extension": ".py",
   "mimetype": "text/x-python",
   "name": "python",
   "nbconvert_exporter": "python",
   "pygments_lexer": "ipython3",
   "version": "3.8.16"
  },
  "orig_nbformat": 4
 },
 "nbformat": 4,
 "nbformat_minor": 2
}
