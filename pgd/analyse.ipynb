{
 "cells": [
  {
   "cell_type": "code",
   "execution_count": 1,
   "metadata": {},
   "outputs": [
    {
     "name": "stdout",
     "output_type": "stream",
     "text": [
      "Using cuda device\n",
      "True\n",
      "0\n",
      "11.7\n"
     ]
    }
   ],
   "source": [
    "import sys\n",
    "import os\n",
    "import torch\n",
    "import torchvision\n",
    "import torch.nn as nn\n",
    "from torchvision import transforms, datasets\n",
    "from torch import optim\n",
    "from torch.utils.data import DataLoader\n",
    "import torch.nn.functional as F\n",
    "import os\n",
    "# import matplotlib.pyplot as plt\n",
    "import numpy as np\n",
    "\n",
    "py_file_location = \"/home/chizm/PatchART/pgd\"\n",
    "sys.path.append(os.path.abspath(py_file_location))\n",
    "\n",
    "device = 'cuda' if torch.cuda.is_available() else 'cpu'\n",
    "print(f'Using {device} device')\n",
    "\n",
    "print(torch.cuda.is_available())\n",
    "print(torch.cuda.current_device())\n",
    "print(torch.version.cuda)"
   ]
  },
  {
   "cell_type": "code",
   "execution_count": 2,
   "metadata": {},
   "outputs": [],
   "source": [
    "class NeuralNet(nn.Module):\n",
    "    def __init__(self):\n",
    "        super(NeuralNet,self).__init__()\n",
    "        self.conv1 = nn.Conv2d(1, 32, kernel_size=5)\n",
    "        self.conv2 = nn.Conv2d(32, 64, kernel_size=5)\n",
    "        self.maxpool = nn.MaxPool2d(2)\n",
    "        self.relu = nn.ReLU()\n",
    "        self.fc1 = nn.Linear(1024, 32)\n",
    "        self.fc2 = nn.Linear(32, 10)\n",
    "\n",
    "    def forward(self,x):\n",
    "        x = self.conv1(x)\n",
    "        x = self.maxpool(x)\n",
    "        x = self.relu(x)\n",
    "        x = self.conv2(x)\n",
    "        x = self.maxpool(x)\n",
    "        x = self.relu(x)\n",
    "        # x = torch.flatten(x, 1)\n",
    "        x = x.view(-1,1024)\n",
    "        x = self.fc1(x)\n",
    "        x = self.relu(x)\n",
    "        x = self.fc2(x)\n",
    "        # x = torch.sigmoid(x)\n",
    "        return x\n",
    "    \n",
    "    # split the model into two parts, first part is the feature extractor until fc1, second part is the classifier\n",
    "    def split(self):\n",
    "        return nn.Sequential(\n",
    "            self.conv1,\n",
    "            self.maxpool,\n",
    "            self.relu,\n",
    "            self.conv2,\n",
    "            self.maxpool,\n",
    "            self.relu,\n",
    "            # torch.flatten(x, 1),\n",
    "            nn.Flatten(),\n",
    "            self.fc1,\n",
    "            self.relu\n",
    "        ), nn.Sequential(\n",
    "            \n",
    "            self.fc2\n",
    "            # nn.Sigmoid()\n",
    "        )\n",
    "    \n",
    "    # use the self.split() to get the feature extractor until fc1\n",
    "    def get_the_feature(self,x):\n",
    "        x = self.split()[0](x)\n",
    "        return x"
   ]
  },
  {
   "cell_type": "code",
   "execution_count": 3,
   "metadata": {},
   "outputs": [
    {
     "data": {
      "text/plain": [
       "NeuralNet(\n",
       "  (conv1): Conv2d(1, 32, kernel_size=(5, 5), stride=(1, 1))\n",
       "  (conv2): Conv2d(32, 64, kernel_size=(5, 5), stride=(1, 1))\n",
       "  (maxpool): MaxPool2d(kernel_size=2, stride=2, padding=0, dilation=1, ceil_mode=False)\n",
       "  (relu): ReLU()\n",
       "  (fc1): Linear(in_features=1024, out_features=32, bias=True)\n",
       "  (fc2): Linear(in_features=32, out_features=10, bias=True)\n",
       ")"
      ]
     },
     "execution_count": 3,
     "metadata": {},
     "output_type": "execute_result"
    }
   ],
   "source": [
    "model = NeuralNet().to(device)\n",
    "model.load_state_dict(torch.load(\"/home/chizm/PatchART/pgd/model/pdg_net.pth\"))\n",
    "model.eval()"
   ]
  },
  {
   "cell_type": "code",
   "execution_count": 4,
   "metadata": {},
   "outputs": [],
   "source": [
    "dataset = torch.load(\"/home/chizm/PatchART/data/MNIST/processed/test_attack_data_part.pt\")"
   ]
  },
  {
   "cell_type": "code",
   "execution_count": 5,
   "metadata": {},
   "outputs": [],
   "source": [
    "atk_images, labels = dataset"
   ]
  },
  {
   "cell_type": "code",
   "execution_count": 6,
   "metadata": {},
   "outputs": [],
   "source": [
    "adv_op = model(atk_images)\n"
   ]
  },
  {
   "cell_type": "code",
   "execution_count": 7,
   "metadata": {},
   "outputs": [],
   "source": [
    "_,p_adv = torch.max(adv_op, dim = 1)"
   ]
  },
  {
   "cell_type": "code",
   "execution_count": 8,
   "metadata": {},
   "outputs": [
    {
     "data": {
      "text/plain": [
       "tensor([8, 4, 5, 9, 9, 9, 2, 2, 5, 9, 5, 7, 7, 5, 2, 9, 0, 8, 3, 0, 4, 9, 9, 5,\n",
       "        4, 9, 8, 9, 5, 5, 8, 8, 2, 9, 4, 9, 9, 4, 4, 3, 8, 9, 9, 3, 8, 2, 9, 8,\n",
       "        3, 8, 9, 3, 4, 4, 8, 4, 8, 8, 3, 4, 3, 5, 9, 2, 2, 3, 9, 5, 3, 2, 5, 2,\n",
       "        2, 2, 9, 2, 0, 4, 0, 5, 3, 3, 2, 5, 5, 3, 2, 2, 8, 3, 5, 5, 3, 8, 7, 9,\n",
       "        1, 3, 4, 9, 2, 5, 3, 5, 5, 9, 4, 4, 9, 4, 0, 5, 3, 9, 2, 5, 4, 2, 7, 3,\n",
       "        5, 7, 9, 8, 8, 3, 9, 9, 4, 9, 9, 4, 2, 5, 9, 9, 5, 5, 8, 0, 5, 9, 8, 5,\n",
       "        5, 1, 5, 9, 5, 9, 3, 3, 3, 7, 9, 5, 7, 4, 9, 8, 0, 8, 8, 5, 5, 3, 8, 3,\n",
       "        4, 2, 2, 4, 9, 3, 3, 8, 9, 8, 5, 5, 2, 3, 4, 8, 9, 3, 8, 2, 7, 2, 8, 5,\n",
       "        5, 9, 6, 8, 9, 8, 8, 4, 4, 9, 4, 3, 3, 4, 9, 5, 4, 7, 9, 2, 3, 2, 2, 3,\n",
       "        5, 4, 4, 9, 2, 3, 9, 9, 9, 7, 9, 8, 4, 9, 3, 5, 9, 9, 3, 9, 5, 9, 9, 8,\n",
       "        3, 9, 2, 9, 2, 5, 9, 9, 3, 5, 3, 9, 3, 3, 2, 8, 5, 9, 8, 3, 8, 3, 4, 8,\n",
       "        3, 9, 2, 5, 9, 9, 3, 8, 5, 4, 3, 6, 3, 2, 9, 7, 5, 5, 5, 2, 3, 3, 9, 5,\n",
       "        9, 3, 7, 8, 8, 9, 5, 5, 0, 5, 5, 9, 3, 9, 5, 5, 0, 9, 9, 7, 4, 0, 9, 5,\n",
       "        3, 8, 7, 0, 3, 3, 9, 3, 5, 5, 3, 2, 9, 5, 1, 2, 8, 3, 9, 9, 9, 9, 4, 9,\n",
       "        5, 3, 0, 9, 3, 5, 8, 3, 2, 9, 5, 5, 3, 5, 6, 8, 3, 2, 9, 2, 9, 9, 2, 9,\n",
       "        1, 3, 9, 5, 5, 8, 5, 9, 5, 9, 0, 1, 5, 1, 3, 4, 9, 5, 5, 5, 2, 5, 5, 9,\n",
       "        4, 4, 2, 3, 3, 4, 5, 5, 4, 9, 4, 9, 5, 5, 8, 3, 9, 5, 1, 9, 9, 4, 9, 0,\n",
       "        3, 9, 0, 2, 3, 9, 5, 5, 5, 5, 7, 9, 9, 4, 3, 3, 2, 9, 9, 2, 2, 8, 3, 4,\n",
       "        0, 9, 3, 4, 8, 9, 2, 5, 6, 9, 3, 3, 8, 4, 3, 9, 7, 8, 3, 9, 5, 5, 9, 6,\n",
       "        9, 4, 1, 4, 5, 5, 9, 9, 0, 6, 9, 4, 5, 3, 0, 9, 3, 2, 3, 5, 3, 8, 8, 2,\n",
       "        8, 5, 3, 0, 9, 2, 9, 5, 9, 2, 9, 4, 9, 9, 2, 9, 5, 5, 7, 5],\n",
       "       device='cuda:0')"
      ]
     },
     "execution_count": 8,
     "metadata": {},
     "output_type": "execute_result"
    }
   ],
   "source": [
    "p_adv"
   ]
  },
  {
   "cell_type": "code",
   "execution_count": 9,
   "metadata": {},
   "outputs": [],
   "source": [
    "num_equal = (p_adv == labels).sum().item()"
   ]
  },
  {
   "cell_type": "code",
   "execution_count": 10,
   "metadata": {},
   "outputs": [
    {
     "data": {
      "text/plain": [
       "0"
      ]
     },
     "execution_count": 10,
     "metadata": {},
     "output_type": "execute_result"
    }
   ],
   "source": [
    "num_equal"
   ]
  },
  {
   "cell_type": "code",
   "execution_count": 11,
   "metadata": {},
   "outputs": [],
   "source": [
    "feature_atk_labels = model.get_the_feature(atk_images)"
   ]
  },
  {
   "cell_type": "code",
   "execution_count": 12,
   "metadata": {},
   "outputs": [],
   "source": [
    "_,fp_adv = torch.max(feature_atk_labels, dim = 1)"
   ]
  },
  {
   "cell_type": "code",
   "execution_count": 13,
   "metadata": {},
   "outputs": [
    {
     "data": {
      "text/plain": [
       "4"
      ]
     },
     "execution_count": 13,
     "metadata": {},
     "output_type": "execute_result"
    }
   ],
   "source": [
    "feature_num_equal = (fp_adv == labels).sum().item()\n",
    "feature_num_equal"
   ]
  },
  {
   "cell_type": "code",
   "execution_count": 1,
   "metadata": {},
   "outputs": [
    {
     "data": {
      "text/plain": [
       "tensor([1, 4, 9])"
      ]
     },
     "execution_count": 1,
     "metadata": {},
     "output_type": "execute_result"
    }
   ],
   "source": [
    "import torch\n",
    "\n",
    "a = torch.tensor([1,2,3])\n",
    "b = torch.tensor([1,2,3])\n",
    "a*b"
   ]
  },
  {
   "cell_type": "code",
   "execution_count": 3,
   "metadata": {},
   "outputs": [
    {
     "data": {
      "text/plain": [
       "tensor([[ 1,  4,  9],\n",
       "        [ 1, 16, 25]])"
      ]
     },
     "execution_count": 3,
     "metadata": {},
     "output_type": "execute_result"
    }
   ],
   "source": [
    "import torch\n",
    "\n",
    "a = torch.tensor([[1,2,3],[1,4,5]])\n",
    "b = torch.tensor([[1,2,3],[1,4,5]])\n",
    "a*b"
   ]
  }
 ],
 "metadata": {
  "kernelspec": {
   "display_name": "PatchART",
   "language": "python",
   "name": "python3"
  },
  "language_info": {
   "codemirror_mode": {
    "name": "ipython",
    "version": 3
   },
   "file_extension": ".py",
   "mimetype": "text/x-python",
   "name": "python",
   "nbconvert_exporter": "python",
   "pygments_lexer": "ipython3",
   "version": "3.8.16"
  },
  "orig_nbformat": 4
 },
 "nbformat": 4,
 "nbformat_minor": 2
}
